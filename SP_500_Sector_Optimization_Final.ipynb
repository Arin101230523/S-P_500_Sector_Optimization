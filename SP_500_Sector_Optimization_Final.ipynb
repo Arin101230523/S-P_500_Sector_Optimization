{
  "cells": [
    {
      "cell_type": "markdown",
      "id": "c1bce4fe",
      "metadata": {
        "id": "c1bce4fe"
      },
      "source": [
        "# Code Description:\n",
        "\n",
        "In the following code, the closing price for each sector is represented by the average of the adjusted closing   prices of the constituent companies within that sector. Here's a breakdown of the steps involved in calculating this average closing price for each sector:\n",
        "\n",
        "#### Data Collection:\n",
        "- The code first fetches the list of S&P 500 companies and their respective sectors using the Wikipedia link provided.\n",
        "- It then replaces specific tickers like 'BRK.B' with 'BRK-B' and 'BF.B' with 'BF-B' to ensure compatibility with Yahoo Finance.\n",
        "\n",
        "#### Looping Through Sectors:\n",
        "- The code then loops through each unique sector in the dataset.\n",
        "\n",
        "#### Fetching Company Data:\n",
        "- For each sector, it retrieves the adjusted closing prices of the constituent companies for the last 90 days from Yahoo Finance.\n",
        "\n",
        "#### Calculating Average Closing Price:\n",
        "It calculates the average closing price for each date by taking the mean of the adjusted closing prices for all companies within that sector on that date.\n",
        "\n",
        "#### Data Formatting and Organization:\n",
        "- The code organizes this data into a DataFrame with columns for 'Date', 'Sector', and 'Avg_Close' (average closing price).\n",
        "- The DataFrame is pivoted to have sectors as columns and dates as rows.\n",
        "- Finally, the DataFrame is stacked to have the sectors' average closing prices in a single column for each date.\n",
        "\n",
        "#### Data Saving:\n",
        "- The resulting DataFrame, representing the average closing prices for each sector, is saved to an Excel file.\n",
        "- The calculated average closing prices for each sector represent an aggregate view of the performance of companies within that sector, giving an indication of the overall sector's stock price movement over the specified period (last 90 days in this case)."
      ]
    },
    {
      "cell_type": "code",
      "execution_count": null,
      "id": "d01bc997",
      "metadata": {
        "id": "d01bc997"
      },
      "outputs": [],
      "source": [
        "#installs necessary libraries\n",
        "%pip install openpyxl\n",
        "%pip install pandas\n",
        "%pip install yfinance\n",
        "%pip install matplotlib\n",
        "%pip install scipy\n",
        "%pip install scikit-learn\n",
        "%pip install PyPortfolioOpt\n",
        "%pip install cvxpy"
      ]
    },
    {
      "cell_type": "code",
      "execution_count": null,
      "id": "2323a890",
      "metadata": {
        "id": "2323a890"
      },
      "outputs": [],
      "source": [
        "import pandas as pd\n",
        "import yfinance as yf\n",
        "from datetime import datetime, timedelta\n",
        "import pathlib\n",
        "import numpy as np\n",
        "import matplotlib.pyplot as plt\n",
        "import scipy.optimize as sci_opt\n",
        "\n",
        "from pprint import pprint\n",
        "from sklearn.preprocessing import StandardScaler\n",
        "# Set some display options for Pandas.\n",
        "%config InlineBackend.figure_format ='retina'\n",
        "pd.set_option('display.max_colwidth', None)\n",
        "pd.set_option('expand_frame_repr', False)\n",
        "pd.set_option('display.max_columns', None)\n",
        "\n"
      ]
    },
    {
      "cell_type": "code",
      "execution_count": null,
      "id": "b15308ab",
      "metadata": {
        "id": "b15308ab"
      },
      "outputs": [],
      "source": [
        "## Fetching S&P 500 Companies:\n",
        "sp500_companies = pd.read_html('https://en.wikipedia.org/wiki/List_of_S%26P_500_companies')[0]\n",
        "sp500_companies['Symbol'] = sp500_companies['Symbol'].replace({'BRK.B': 'BRK-B', 'BF.B': 'BF-B'})"
      ]
    },
    {
      "cell_type": "code",
      "execution_count": null,
      "id": "b0fc71a1",
      "metadata": {
        "colab": {
          "base_uri": "https://localhost:8080/",
          "height": 423
        },
        "id": "b0fc71a1",
        "outputId": "e48eb370-a16c-45a0-92cc-c4c6da6c5fd5"
      },
      "outputs": [
        {
          "output_type": "execute_result",
          "data": {
            "text/plain": [
              "    Symbol             Security             GICS Sector                             GICS Sub-Industry    Headquarters Location  Date added      CIK      Founded\n",
              "0      MMM                   3M             Industrials                      Industrial Conglomerates    Saint Paul, Minnesota  1957-03-04    66740         1902\n",
              "1      AOS          A. O. Smith             Industrials                             Building Products     Milwaukee, Wisconsin  2017-07-26    91142         1916\n",
              "2      ABT  Abbott Laboratories             Health Care                         Health Care Equipment  North Chicago, Illinois  1957-03-04     1800         1888\n",
              "3     ABBV               AbbVie             Health Care                                 Biotechnology  North Chicago, Illinois  2012-12-31  1551152  2013 (1888)\n",
              "4      ACN            Accenture  Information Technology                IT Consulting & Other Services          Dublin, Ireland  2011-07-06  1467373         1989\n",
              "..     ...                  ...                     ...                                           ...                      ...         ...      ...          ...\n",
              "498    XYL           Xylem Inc.             Industrials  Industrial Machinery & Supplies & Components   White Plains, New York  2011-11-01  1524472         2011\n",
              "499    YUM          Yum! Brands  Consumer Discretionary                                   Restaurants     Louisville, Kentucky  1997-10-06  1041061         1997\n",
              "500   ZBRA   Zebra Technologies  Information Technology            Electronic Equipment & Instruments   Lincolnshire, Illinois  2019-12-23   877212         1969\n",
              "501    ZBH        Zimmer Biomet             Health Care                         Health Care Equipment          Warsaw, Indiana  2001-08-07  1136869         1927\n",
              "502    ZTS               Zoetis             Health Care                               Pharmaceuticals   Parsippany, New Jersey  2013-06-21  1555280         1952\n",
              "\n",
              "[503 rows x 8 columns]"
            ],
            "text/html": [
              "\n",
              "  <div id=\"df-ab933dc6-46a7-4329-bfa6-01e0e4c3bbcd\" class=\"colab-df-container\">\n",
              "    <div>\n",
              "<style scoped>\n",
              "    .dataframe tbody tr th:only-of-type {\n",
              "        vertical-align: middle;\n",
              "    }\n",
              "\n",
              "    .dataframe tbody tr th {\n",
              "        vertical-align: top;\n",
              "    }\n",
              "\n",
              "    .dataframe thead th {\n",
              "        text-align: right;\n",
              "    }\n",
              "</style>\n",
              "<table border=\"1\" class=\"dataframe\">\n",
              "  <thead>\n",
              "    <tr style=\"text-align: right;\">\n",
              "      <th></th>\n",
              "      <th>Symbol</th>\n",
              "      <th>Security</th>\n",
              "      <th>GICS Sector</th>\n",
              "      <th>GICS Sub-Industry</th>\n",
              "      <th>Headquarters Location</th>\n",
              "      <th>Date added</th>\n",
              "      <th>CIK</th>\n",
              "      <th>Founded</th>\n",
              "    </tr>\n",
              "  </thead>\n",
              "  <tbody>\n",
              "    <tr>\n",
              "      <th>0</th>\n",
              "      <td>MMM</td>\n",
              "      <td>3M</td>\n",
              "      <td>Industrials</td>\n",
              "      <td>Industrial Conglomerates</td>\n",
              "      <td>Saint Paul, Minnesota</td>\n",
              "      <td>1957-03-04</td>\n",
              "      <td>66740</td>\n",
              "      <td>1902</td>\n",
              "    </tr>\n",
              "    <tr>\n",
              "      <th>1</th>\n",
              "      <td>AOS</td>\n",
              "      <td>A. O. Smith</td>\n",
              "      <td>Industrials</td>\n",
              "      <td>Building Products</td>\n",
              "      <td>Milwaukee, Wisconsin</td>\n",
              "      <td>2017-07-26</td>\n",
              "      <td>91142</td>\n",
              "      <td>1916</td>\n",
              "    </tr>\n",
              "    <tr>\n",
              "      <th>2</th>\n",
              "      <td>ABT</td>\n",
              "      <td>Abbott Laboratories</td>\n",
              "      <td>Health Care</td>\n",
              "      <td>Health Care Equipment</td>\n",
              "      <td>North Chicago, Illinois</td>\n",
              "      <td>1957-03-04</td>\n",
              "      <td>1800</td>\n",
              "      <td>1888</td>\n",
              "    </tr>\n",
              "    <tr>\n",
              "      <th>3</th>\n",
              "      <td>ABBV</td>\n",
              "      <td>AbbVie</td>\n",
              "      <td>Health Care</td>\n",
              "      <td>Biotechnology</td>\n",
              "      <td>North Chicago, Illinois</td>\n",
              "      <td>2012-12-31</td>\n",
              "      <td>1551152</td>\n",
              "      <td>2013 (1888)</td>\n",
              "    </tr>\n",
              "    <tr>\n",
              "      <th>4</th>\n",
              "      <td>ACN</td>\n",
              "      <td>Accenture</td>\n",
              "      <td>Information Technology</td>\n",
              "      <td>IT Consulting &amp; Other Services</td>\n",
              "      <td>Dublin, Ireland</td>\n",
              "      <td>2011-07-06</td>\n",
              "      <td>1467373</td>\n",
              "      <td>1989</td>\n",
              "    </tr>\n",
              "    <tr>\n",
              "      <th>...</th>\n",
              "      <td>...</td>\n",
              "      <td>...</td>\n",
              "      <td>...</td>\n",
              "      <td>...</td>\n",
              "      <td>...</td>\n",
              "      <td>...</td>\n",
              "      <td>...</td>\n",
              "      <td>...</td>\n",
              "    </tr>\n",
              "    <tr>\n",
              "      <th>498</th>\n",
              "      <td>XYL</td>\n",
              "      <td>Xylem Inc.</td>\n",
              "      <td>Industrials</td>\n",
              "      <td>Industrial Machinery &amp; Supplies &amp; Components</td>\n",
              "      <td>White Plains, New York</td>\n",
              "      <td>2011-11-01</td>\n",
              "      <td>1524472</td>\n",
              "      <td>2011</td>\n",
              "    </tr>\n",
              "    <tr>\n",
              "      <th>499</th>\n",
              "      <td>YUM</td>\n",
              "      <td>Yum! Brands</td>\n",
              "      <td>Consumer Discretionary</td>\n",
              "      <td>Restaurants</td>\n",
              "      <td>Louisville, Kentucky</td>\n",
              "      <td>1997-10-06</td>\n",
              "      <td>1041061</td>\n",
              "      <td>1997</td>\n",
              "    </tr>\n",
              "    <tr>\n",
              "      <th>500</th>\n",
              "      <td>ZBRA</td>\n",
              "      <td>Zebra Technologies</td>\n",
              "      <td>Information Technology</td>\n",
              "      <td>Electronic Equipment &amp; Instruments</td>\n",
              "      <td>Lincolnshire, Illinois</td>\n",
              "      <td>2019-12-23</td>\n",
              "      <td>877212</td>\n",
              "      <td>1969</td>\n",
              "    </tr>\n",
              "    <tr>\n",
              "      <th>501</th>\n",
              "      <td>ZBH</td>\n",
              "      <td>Zimmer Biomet</td>\n",
              "      <td>Health Care</td>\n",
              "      <td>Health Care Equipment</td>\n",
              "      <td>Warsaw, Indiana</td>\n",
              "      <td>2001-08-07</td>\n",
              "      <td>1136869</td>\n",
              "      <td>1927</td>\n",
              "    </tr>\n",
              "    <tr>\n",
              "      <th>502</th>\n",
              "      <td>ZTS</td>\n",
              "      <td>Zoetis</td>\n",
              "      <td>Health Care</td>\n",
              "      <td>Pharmaceuticals</td>\n",
              "      <td>Parsippany, New Jersey</td>\n",
              "      <td>2013-06-21</td>\n",
              "      <td>1555280</td>\n",
              "      <td>1952</td>\n",
              "    </tr>\n",
              "  </tbody>\n",
              "</table>\n",
              "<p>503 rows × 8 columns</p>\n",
              "</div>\n",
              "    <div class=\"colab-df-buttons\">\n",
              "\n",
              "  <div class=\"colab-df-container\">\n",
              "    <button class=\"colab-df-convert\" onclick=\"convertToInteractive('df-ab933dc6-46a7-4329-bfa6-01e0e4c3bbcd')\"\n",
              "            title=\"Convert this dataframe to an interactive table.\"\n",
              "            style=\"display:none;\">\n",
              "\n",
              "  <svg xmlns=\"http://www.w3.org/2000/svg\" height=\"24px\" viewBox=\"0 -960 960 960\">\n",
              "    <path d=\"M120-120v-720h720v720H120Zm60-500h600v-160H180v160Zm220 220h160v-160H400v160Zm0 220h160v-160H400v160ZM180-400h160v-160H180v160Zm440 0h160v-160H620v160ZM180-180h160v-160H180v160Zm440 0h160v-160H620v160Z\"/>\n",
              "  </svg>\n",
              "    </button>\n",
              "\n",
              "  <style>\n",
              "    .colab-df-container {\n",
              "      display:flex;\n",
              "      gap: 12px;\n",
              "    }\n",
              "\n",
              "    .colab-df-convert {\n",
              "      background-color: #E8F0FE;\n",
              "      border: none;\n",
              "      border-radius: 50%;\n",
              "      cursor: pointer;\n",
              "      display: none;\n",
              "      fill: #1967D2;\n",
              "      height: 32px;\n",
              "      padding: 0 0 0 0;\n",
              "      width: 32px;\n",
              "    }\n",
              "\n",
              "    .colab-df-convert:hover {\n",
              "      background-color: #E2EBFA;\n",
              "      box-shadow: 0px 1px 2px rgba(60, 64, 67, 0.3), 0px 1px 3px 1px rgba(60, 64, 67, 0.15);\n",
              "      fill: #174EA6;\n",
              "    }\n",
              "\n",
              "    .colab-df-buttons div {\n",
              "      margin-bottom: 4px;\n",
              "    }\n",
              "\n",
              "    [theme=dark] .colab-df-convert {\n",
              "      background-color: #3B4455;\n",
              "      fill: #D2E3FC;\n",
              "    }\n",
              "\n",
              "    [theme=dark] .colab-df-convert:hover {\n",
              "      background-color: #434B5C;\n",
              "      box-shadow: 0px 1px 3px 1px rgba(0, 0, 0, 0.15);\n",
              "      filter: drop-shadow(0px 1px 2px rgba(0, 0, 0, 0.3));\n",
              "      fill: #FFFFFF;\n",
              "    }\n",
              "  </style>\n",
              "\n",
              "    <script>\n",
              "      const buttonEl =\n",
              "        document.querySelector('#df-ab933dc6-46a7-4329-bfa6-01e0e4c3bbcd button.colab-df-convert');\n",
              "      buttonEl.style.display =\n",
              "        google.colab.kernel.accessAllowed ? 'block' : 'none';\n",
              "\n",
              "      async function convertToInteractive(key) {\n",
              "        const element = document.querySelector('#df-ab933dc6-46a7-4329-bfa6-01e0e4c3bbcd');\n",
              "        const dataTable =\n",
              "          await google.colab.kernel.invokeFunction('convertToInteractive',\n",
              "                                                    [key], {});\n",
              "        if (!dataTable) return;\n",
              "\n",
              "        const docLinkHtml = 'Like what you see? Visit the ' +\n",
              "          '<a target=\"_blank\" href=https://colab.research.google.com/notebooks/data_table.ipynb>data table notebook</a>'\n",
              "          + ' to learn more about interactive tables.';\n",
              "        element.innerHTML = '';\n",
              "        dataTable['output_type'] = 'display_data';\n",
              "        await google.colab.output.renderOutput(dataTable, element);\n",
              "        const docLink = document.createElement('div');\n",
              "        docLink.innerHTML = docLinkHtml;\n",
              "        element.appendChild(docLink);\n",
              "      }\n",
              "    </script>\n",
              "  </div>\n",
              "\n",
              "\n",
              "<div id=\"df-62afa689-1897-4be4-9cfc-13cd0909df01\">\n",
              "  <button class=\"colab-df-quickchart\" onclick=\"quickchart('df-62afa689-1897-4be4-9cfc-13cd0909df01')\"\n",
              "            title=\"Suggest charts\"\n",
              "            style=\"display:none;\">\n",
              "\n",
              "<svg xmlns=\"http://www.w3.org/2000/svg\" height=\"24px\"viewBox=\"0 0 24 24\"\n",
              "     width=\"24px\">\n",
              "    <g>\n",
              "        <path d=\"M19 3H5c-1.1 0-2 .9-2 2v14c0 1.1.9 2 2 2h14c1.1 0 2-.9 2-2V5c0-1.1-.9-2-2-2zM9 17H7v-7h2v7zm4 0h-2V7h2v10zm4 0h-2v-4h2v4z\"/>\n",
              "    </g>\n",
              "</svg>\n",
              "  </button>\n",
              "\n",
              "<style>\n",
              "  .colab-df-quickchart {\n",
              "      --bg-color: #E8F0FE;\n",
              "      --fill-color: #1967D2;\n",
              "      --hover-bg-color: #E2EBFA;\n",
              "      --hover-fill-color: #174EA6;\n",
              "      --disabled-fill-color: #AAA;\n",
              "      --disabled-bg-color: #DDD;\n",
              "  }\n",
              "\n",
              "  [theme=dark] .colab-df-quickchart {\n",
              "      --bg-color: #3B4455;\n",
              "      --fill-color: #D2E3FC;\n",
              "      --hover-bg-color: #434B5C;\n",
              "      --hover-fill-color: #FFFFFF;\n",
              "      --disabled-bg-color: #3B4455;\n",
              "      --disabled-fill-color: #666;\n",
              "  }\n",
              "\n",
              "  .colab-df-quickchart {\n",
              "    background-color: var(--bg-color);\n",
              "    border: none;\n",
              "    border-radius: 50%;\n",
              "    cursor: pointer;\n",
              "    display: none;\n",
              "    fill: var(--fill-color);\n",
              "    height: 32px;\n",
              "    padding: 0;\n",
              "    width: 32px;\n",
              "  }\n",
              "\n",
              "  .colab-df-quickchart:hover {\n",
              "    background-color: var(--hover-bg-color);\n",
              "    box-shadow: 0 1px 2px rgba(60, 64, 67, 0.3), 0 1px 3px 1px rgba(60, 64, 67, 0.15);\n",
              "    fill: var(--button-hover-fill-color);\n",
              "  }\n",
              "\n",
              "  .colab-df-quickchart-complete:disabled,\n",
              "  .colab-df-quickchart-complete:disabled:hover {\n",
              "    background-color: var(--disabled-bg-color);\n",
              "    fill: var(--disabled-fill-color);\n",
              "    box-shadow: none;\n",
              "  }\n",
              "\n",
              "  .colab-df-spinner {\n",
              "    border: 2px solid var(--fill-color);\n",
              "    border-color: transparent;\n",
              "    border-bottom-color: var(--fill-color);\n",
              "    animation:\n",
              "      spin 1s steps(1) infinite;\n",
              "  }\n",
              "\n",
              "  @keyframes spin {\n",
              "    0% {\n",
              "      border-color: transparent;\n",
              "      border-bottom-color: var(--fill-color);\n",
              "      border-left-color: var(--fill-color);\n",
              "    }\n",
              "    20% {\n",
              "      border-color: transparent;\n",
              "      border-left-color: var(--fill-color);\n",
              "      border-top-color: var(--fill-color);\n",
              "    }\n",
              "    30% {\n",
              "      border-color: transparent;\n",
              "      border-left-color: var(--fill-color);\n",
              "      border-top-color: var(--fill-color);\n",
              "      border-right-color: var(--fill-color);\n",
              "    }\n",
              "    40% {\n",
              "      border-color: transparent;\n",
              "      border-right-color: var(--fill-color);\n",
              "      border-top-color: var(--fill-color);\n",
              "    }\n",
              "    60% {\n",
              "      border-color: transparent;\n",
              "      border-right-color: var(--fill-color);\n",
              "    }\n",
              "    80% {\n",
              "      border-color: transparent;\n",
              "      border-right-color: var(--fill-color);\n",
              "      border-bottom-color: var(--fill-color);\n",
              "    }\n",
              "    90% {\n",
              "      border-color: transparent;\n",
              "      border-bottom-color: var(--fill-color);\n",
              "    }\n",
              "  }\n",
              "</style>\n",
              "\n",
              "  <script>\n",
              "    async function quickchart(key) {\n",
              "      const quickchartButtonEl =\n",
              "        document.querySelector('#' + key + ' button');\n",
              "      quickchartButtonEl.disabled = true;  // To prevent multiple clicks.\n",
              "      quickchartButtonEl.classList.add('colab-df-spinner');\n",
              "      try {\n",
              "        const charts = await google.colab.kernel.invokeFunction(\n",
              "            'suggestCharts', [key], {});\n",
              "      } catch (error) {\n",
              "        console.error('Error during call to suggestCharts:', error);\n",
              "      }\n",
              "      quickchartButtonEl.classList.remove('colab-df-spinner');\n",
              "      quickchartButtonEl.classList.add('colab-df-quickchart-complete');\n",
              "    }\n",
              "    (() => {\n",
              "      let quickchartButtonEl =\n",
              "        document.querySelector('#df-62afa689-1897-4be4-9cfc-13cd0909df01 button');\n",
              "      quickchartButtonEl.style.display =\n",
              "        google.colab.kernel.accessAllowed ? 'block' : 'none';\n",
              "    })();\n",
              "  </script>\n",
              "</div>\n",
              "\n",
              "  <div id=\"id_b4408407-7c9f-45a1-9e7a-7e575bf2e85c\">\n",
              "    <style>\n",
              "      .colab-df-generate {\n",
              "        background-color: #E8F0FE;\n",
              "        border: none;\n",
              "        border-radius: 50%;\n",
              "        cursor: pointer;\n",
              "        display: none;\n",
              "        fill: #1967D2;\n",
              "        height: 32px;\n",
              "        padding: 0 0 0 0;\n",
              "        width: 32px;\n",
              "      }\n",
              "\n",
              "      .colab-df-generate:hover {\n",
              "        background-color: #E2EBFA;\n",
              "        box-shadow: 0px 1px 2px rgba(60, 64, 67, 0.3), 0px 1px 3px 1px rgba(60, 64, 67, 0.15);\n",
              "        fill: #174EA6;\n",
              "      }\n",
              "\n",
              "      [theme=dark] .colab-df-generate {\n",
              "        background-color: #3B4455;\n",
              "        fill: #D2E3FC;\n",
              "      }\n",
              "\n",
              "      [theme=dark] .colab-df-generate:hover {\n",
              "        background-color: #434B5C;\n",
              "        box-shadow: 0px 1px 3px 1px rgba(0, 0, 0, 0.15);\n",
              "        filter: drop-shadow(0px 1px 2px rgba(0, 0, 0, 0.3));\n",
              "        fill: #FFFFFF;\n",
              "      }\n",
              "    </style>\n",
              "    <button class=\"colab-df-generate\" onclick=\"generateWithVariable('sp500_companies')\"\n",
              "            title=\"Generate code using this dataframe.\"\n",
              "            style=\"display:none;\">\n",
              "\n",
              "  <svg xmlns=\"http://www.w3.org/2000/svg\" height=\"24px\"viewBox=\"0 0 24 24\"\n",
              "       width=\"24px\">\n",
              "    <path d=\"M7,19H8.4L18.45,9,17,7.55,7,17.6ZM5,21V16.75L18.45,3.32a2,2,0,0,1,2.83,0l1.4,1.43a1.91,1.91,0,0,1,.58,1.4,1.91,1.91,0,0,1-.58,1.4L9.25,21ZM18.45,9,17,7.55Zm-12,3A5.31,5.31,0,0,0,4.9,8.1,5.31,5.31,0,0,0,1,6.5,5.31,5.31,0,0,0,4.9,4.9,5.31,5.31,0,0,0,6.5,1,5.31,5.31,0,0,0,8.1,4.9,5.31,5.31,0,0,0,12,6.5,5.46,5.46,0,0,0,6.5,12Z\"/>\n",
              "  </svg>\n",
              "    </button>\n",
              "    <script>\n",
              "      (() => {\n",
              "      const buttonEl =\n",
              "        document.querySelector('#id_b4408407-7c9f-45a1-9e7a-7e575bf2e85c button.colab-df-generate');\n",
              "      buttonEl.style.display =\n",
              "        google.colab.kernel.accessAllowed ? 'block' : 'none';\n",
              "\n",
              "      buttonEl.onclick = () => {\n",
              "        google.colab.notebook.generateWithVariable('sp500_companies');\n",
              "      }\n",
              "      })();\n",
              "    </script>\n",
              "  </div>\n",
              "\n",
              "    </div>\n",
              "  </div>\n"
            ],
            "application/vnd.google.colaboratory.intrinsic+json": {
              "type": "dataframe",
              "variable_name": "sp500_companies",
              "summary": "{\n  \"name\": \"sp500_companies\",\n  \"rows\": 503,\n  \"fields\": [\n    {\n      \"column\": \"Symbol\",\n      \"properties\": {\n        \"dtype\": \"string\",\n        \"num_unique_values\": 503,\n        \"samples\": [\n          \"JCI\",\n          \"BMY\",\n          \"LEN\"\n        ],\n        \"semantic_type\": \"\",\n        \"description\": \"\"\n      }\n    },\n    {\n      \"column\": \"Security\",\n      \"properties\": {\n        \"dtype\": \"string\",\n        \"num_unique_values\": 503,\n        \"samples\": [\n          \"Johnson Controls\",\n          \"Bristol Myers Squibb\",\n          \"Lennar\"\n        ],\n        \"semantic_type\": \"\",\n        \"description\": \"\"\n      }\n    },\n    {\n      \"column\": \"GICS Sector\",\n      \"properties\": {\n        \"dtype\": \"category\",\n        \"num_unique_values\": 11,\n        \"samples\": [\n          \"Materials\",\n          \"Industrials\",\n          \"Consumer Staples\"\n        ],\n        \"semantic_type\": \"\",\n        \"description\": \"\"\n      }\n    },\n    {\n      \"column\": \"GICS Sub-Industry\",\n      \"properties\": {\n        \"dtype\": \"category\",\n        \"num_unique_values\": 127,\n        \"samples\": [\n          \"Telecom Tower REITs\",\n          \"Oil & Gas Refining & Marketing\",\n          \"Homebuilding\"\n        ],\n        \"semantic_type\": \"\",\n        \"description\": \"\"\n      }\n    },\n    {\n      \"column\": \"Headquarters Location\",\n      \"properties\": {\n        \"dtype\": \"string\",\n        \"num_unique_values\": 252,\n        \"samples\": [\n          \"Chicago, Illinois; Pittsburgh, Pennsylvania\",\n          \"Arlington, Virginia\",\n          \"Redwood City, California\"\n        ],\n        \"semantic_type\": \"\",\n        \"description\": \"\"\n      }\n    },\n    {\n      \"column\": \"Date added\",\n      \"properties\": {\n        \"dtype\": \"object\",\n        \"num_unique_values\": 376,\n        \"samples\": [\n          \"1984-04-30\",\n          \"1999-06-30\",\n          \"2015-09-18\"\n        ],\n        \"semantic_type\": \"\",\n        \"description\": \"\"\n      }\n    },\n    {\n      \"column\": \"CIK\",\n      \"properties\": {\n        \"dtype\": \"number\",\n        \"std\": 566520,\n        \"min\": 1800,\n        \"max\": 2005951,\n        \"num_unique_values\": 500,\n        \"samples\": [\n          813828,\n          1730168,\n          945841\n        ],\n        \"semantic_type\": \"\",\n        \"description\": \"\"\n      }\n    },\n    {\n      \"column\": \"Founded\",\n      \"properties\": {\n        \"dtype\": \"category\",\n        \"num_unique_values\": 199,\n        \"samples\": [\n          \"1848\",\n          \"1908\",\n          \"1909\"\n        ],\n        \"semantic_type\": \"\",\n        \"description\": \"\"\n      }\n    }\n  ]\n}"
            }
          },
          "metadata": {},
          "execution_count": 4
        }
      ],
      "source": [
        "sp500_companies"
      ]
    },
    {
      "cell_type": "code",
      "execution_count": null,
      "id": "4f0fc13e",
      "metadata": {
        "id": "4f0fc13e"
      },
      "outputs": [],
      "source": [
        "# Dropping NaN values\n",
        "sp500_companies.dropna(inplace=True)"
      ]
    },
    {
      "cell_type": "code",
      "execution_count": null,
      "id": "3b788004",
      "metadata": {
        "id": "3b788004"
      },
      "outputs": [],
      "source": [
        "## Getting Unique Sectors and Dates:\n",
        "unique_sectors = sp500_companies['GICS Sector'].unique()\n",
        "end_date = datetime.today().strftime('%Y-%m-%d')\n",
        "start_date = (datetime.today() - timedelta(days=90)).strftime('%Y-%m-%d')"
      ]
    },
    {
      "cell_type": "code",
      "execution_count": null,
      "id": "80bec452",
      "metadata": {
        "colab": {
          "base_uri": "https://localhost:8080/"
        },
        "id": "80bec452",
        "outputId": "fd1bf0ba-87fc-4ad1-a4c7-0ff36a9d7c6e"
      },
      "outputs": [
        {
          "output_type": "stream",
          "name": "stdout",
          "text": [
            "                         0\n",
            "0              Industrials\n",
            "1              Health Care\n",
            "2   Information Technology\n",
            "3                Utilities\n",
            "4               Financials\n",
            "5                Materials\n",
            "6   Consumer Discretionary\n",
            "7              Real Estate\n",
            "8   Communication Services\n",
            "9         Consumer Staples\n",
            "10                  Energy\n"
          ]
        }
      ],
      "source": [
        "unique_sectors_df = pd.DataFrame(unique_sectors)\n",
        "print(unique_sectors_df)"
      ]
    },
    {
      "cell_type": "code",
      "execution_count": null,
      "id": "48097144",
      "metadata": {
        "id": "48097144"
      },
      "outputs": [],
      "source": [
        "number_of_sectors = len(unique_sectors)"
      ]
    },
    {
      "cell_type": "code",
      "execution_count": null,
      "id": "c38080f5",
      "metadata": {
        "colab": {
          "base_uri": "https://localhost:8080/"
        },
        "id": "c38080f5",
        "outputId": "c61d9cc0-12eb-4ece-f814-8ac883774d90"
      },
      "outputs": [
        {
          "output_type": "execute_result",
          "data": {
            "text/plain": [
              "11"
            ]
          },
          "metadata": {},
          "execution_count": 9
        }
      ],
      "source": [
        "len(unique_sectors)"
      ]
    },
    {
      "cell_type": "code",
      "execution_count": null,
      "id": "a1e5a363",
      "metadata": {
        "colab": {
          "base_uri": "https://localhost:8080/"
        },
        "id": "a1e5a363",
        "outputId": "5cdf4e82-07b1-4068-925f-789def3e54ca"
      },
      "outputs": [
        {
          "output_type": "stream",
          "name": "stderr",
          "text": [
            "[*********************100%***********************]  78 of 78 completed\n",
            "[*********************100%***********************]  63 of 63 completed\n",
            "[*********************100%***********************]  67 of 67 completed\n",
            "[*********************100%***********************]  31 of 31 completed\n",
            "[*********************100%***********************]  71 of 71 completed\n",
            "[*********************100%***********************]  28 of 28 completed\n",
            "[*********************100%***********************]  52 of 52 completed\n",
            "[*********************100%***********************]  31 of 31 completed\n",
            "[*********************100%***********************]  22 of 22 completed\n",
            "[*********************100%***********************]  38 of 38 completed\n",
            "[*********************100%***********************]  22 of 22 completed\n"
          ]
        },
        {
          "output_type": "stream",
          "name": "stdout",
          "text": [
            "           Date   Avg_Close            Sector\n",
            "681  2024-08-26   87.699545            Energy\n",
            "680  2024-08-23   87.243636            Energy\n",
            "679  2024-08-22   85.905000            Energy\n",
            "678  2024-08-21   85.827728            Energy\n",
            "677  2024-08-20   85.497955            Energy\n",
            "..          ...         ...               ...\n",
            "586  2024-07-10  105.777761  Consumer Staples\n",
            "585  2024-07-09  105.365021  Consumer Staples\n",
            "584  2024-07-08  105.778489  Consumer Staples\n",
            "583  2024-07-05  105.948899  Consumer Staples\n",
            "582  2024-07-03  104.701393  Consumer Staples\n",
            "\n",
            "[100 rows x 3 columns]\n"
          ]
        }
      ],
      "source": [
        "## Fetching Historical Prices and Calculating Averages:\n",
        "## The code fetches historical closing prices for each company in each sector and calculates the average closing price for the sector.\n",
        "# Loop through each sector and download closing prices\n",
        "all_avg_prices = []\n",
        "all_dates = []\n",
        "all_sectors = []\n",
        "for sector in unique_sectors:\n",
        "    companies = sp500_companies[sp500_companies['GICS Sector'] == sector]['Symbol'].tolist()\n",
        "    prices = yf.download(companies, start=start_date, end=end_date)['Adj Close']\n",
        "    avg_prices = prices.mean(axis=1)\n",
        "    # Append the data\n",
        "    all_avg_prices.extend(avg_prices.tolist())\n",
        "    all_dates.extend([date.date() for date in prices.index])\n",
        "    all_sectors.extend([sector] * len(avg_prices))\n",
        "\n",
        "# Create a DataFrame\n",
        "sp500_sectors_avg_prices = pd.DataFrame({\n",
        "    'Date': all_dates,\n",
        "    'Avg_Close': all_avg_prices,\n",
        "    'Sector': all_sectors\n",
        "})\n",
        "\n",
        "#sp500_sectors_avg_prices = sp500_sectors_avg_prices.pivot(index='Date', columns='Sector', values='Avg_Close')\n",
        "# Reverse the order of the DataFrame by dates\n",
        "sp500_sectors_avg_prices = sp500_sectors_avg_prices[::-1]\n",
        "\n",
        "print(sp500_sectors_avg_prices.head(100))"
      ]
    },
    {
      "cell_type": "code",
      "execution_count": null,
      "id": "263bd1dc",
      "metadata": {
        "colab": {
          "base_uri": "https://localhost:8080/"
        },
        "id": "263bd1dc",
        "outputId": "f1a59dfc-dcee-477e-c761-5de09732c033"
      },
      "outputs": [
        {
          "output_type": "stream",
          "name": "stdout",
          "text": [
            "Sector      Communication Services  Consumer Discretionary  Consumer Staples     Energy  Financials  Health Care  Industrials  Information Technology   Materials  Real Estate  Utilities\n",
            "Date                                                                                                                                                                                     \n",
            "2024-05-29              126.753480              427.194581        104.201668  86.518504  164.710151   240.404132   208.768401              263.792091  147.129167   118.829592  72.521968\n",
            "2024-05-30              126.259379              432.292042        104.317818  86.742961  165.345931   239.600468   210.214910              257.621378  148.473282   120.349102  73.529537\n",
            "2024-05-31              127.278646              439.142145        106.150326  88.727149  167.347147   242.702178   212.586944              257.171589  150.135157   122.290814  74.618398\n",
            "2024-06-03              127.397392              437.348366        106.232992  86.379173  166.223497   243.767580   209.626732              256.422259  149.046081   121.911621  73.719003\n",
            "2024-06-04              127.587317              436.221796        106.677328  85.846036  166.011454   243.900492   208.959688              256.453551  147.728273   123.315651  73.728546\n"
          ]
        }
      ],
      "source": [
        "sp500_sectors_avg_prices = sp500_sectors_avg_prices.pivot(\n",
        "    index='Date',\n",
        "    columns='Sector',\n",
        "    values='Avg_Close'\n",
        ")\n",
        "print(sp500_sectors_avg_prices.head())"
      ]
    },
    {
      "cell_type": "code",
      "execution_count": null,
      "id": "f8f336a9",
      "metadata": {
        "id": "f8f336a9"
      },
      "outputs": [],
      "source": [
        "sp500_sectors_avg_prices.dropna(inplace=True)"
      ]
    },
    {
      "cell_type": "code",
      "execution_count": null,
      "id": "7893884a",
      "metadata": {
        "colab": {
          "base_uri": "https://localhost:8080/"
        },
        "id": "7893884a",
        "outputId": "2dfe6fb1-21b7-4f8a-8034-3458c6e6c8fe"
      },
      "outputs": [
        {
          "output_type": "stream",
          "name": "stdout",
          "text": [
            "Sector\n",
            "Communication Services    0\n",
            "Consumer Discretionary    0\n",
            "Consumer Staples          0\n",
            "Energy                    0\n",
            "Financials                0\n",
            "Health Care               0\n",
            "Industrials               0\n",
            "Information Technology    0\n",
            "Materials                 0\n",
            "Real Estate               0\n",
            "Utilities                 0\n",
            "dtype: int64\n"
          ]
        }
      ],
      "source": [
        "print(sp500_sectors_avg_prices.isnull().sum())"
      ]
    },
    {
      "cell_type": "code",
      "execution_count": null,
      "id": "a2a98cb4",
      "metadata": {
        "id": "a2a98cb4"
      },
      "outputs": [],
      "source": [
        "sp500_sectors_avg_prices.to_excel('sp500_sectors_avg_prices.xlsx', index=True)"
      ]
    },
    {
      "cell_type": "code",
      "execution_count": null,
      "id": "1a6d8299",
      "metadata": {
        "id": "1a6d8299"
      },
      "outputs": [],
      "source": [
        "# Calculate the Log of returns.\n",
        "log_return = np.log(1 +sp500_sectors_avg_prices.pct_change().iloc[::-1])\n",
        "\n",
        "# Drop rows with negative values\n",
        "log_return = log_return[(log_return > 0).all(axis=1)]\n",
        "\n",
        "\n",
        "# Generate Random Weights.\n",
        "random_weights = np.array(np.random.random(number_of_sectors))\n",
        "\n",
        "# Generate the Rebalance Weights, these should equal 1.\n",
        "rebalance_weights = random_weights / np.sum(random_weights)\n"
      ]
    },
    {
      "cell_type": "code",
      "execution_count": null,
      "id": "457ddda7",
      "metadata": {
        "colab": {
          "base_uri": "https://localhost:8080/"
        },
        "id": "457ddda7",
        "outputId": "64315da4-9daf-4c5f-b400-0e00ebcea5cd"
      },
      "outputs": [
        {
          "output_type": "stream",
          "name": "stdout",
          "text": [
            "Log Returns:\n",
            "Sector      Communication Services  Consumer Discretionary  Consumer Staples    Energy  Financials  Health Care  Industrials  Information Technology  Materials  Real Estate  Utilities\n",
            "Date                                                                                                                                                                                   \n",
            "2024-08-23                0.005366                0.020280          0.003841  0.015463    0.008392     0.006138     0.011847                0.009668   0.014703     0.019247   0.002602\n",
            "2024-08-21                0.003894                0.012672          0.008309  0.003850    0.000790     0.002300     0.007834                0.010537   0.012521     0.002181   0.007539\n",
            "2024-08-19                0.011836                0.012624          0.004600  0.005294    0.005251     0.006691     0.006168                0.007152   0.003057     0.004946   0.006350\n",
            "2024-08-08                0.025052                0.021700          0.010579  0.023997    0.015688     0.020154     0.023656                0.036890   0.013771     0.013252   0.005126\n",
            "2024-08-06                0.013295                0.008072          0.007627  0.012800    0.012745     0.005401     0.009657                0.016353   0.001804     0.022844   0.011063\n"
          ]
        }
      ],
      "source": [
        "print('Log Returns:')\n",
        "print(log_return.head())"
      ]
    },
    {
      "cell_type": "code",
      "execution_count": null,
      "id": "35a7825a",
      "metadata": {
        "colab": {
          "base_uri": "https://localhost:8080/"
        },
        "id": "35a7825a",
        "outputId": "b9edb31b-8255-4550-ee23-4ac1f6d5be68"
      },
      "outputs": [
        {
          "output_type": "stream",
          "name": "stdout",
          "text": [
            "Sector\n",
            "Communication Services    0\n",
            "Consumer Discretionary    0\n",
            "Consumer Staples          0\n",
            "Energy                    0\n",
            "Financials                0\n",
            "Health Care               0\n",
            "Industrials               0\n",
            "Information Technology    0\n",
            "Materials                 0\n",
            "Real Estate               0\n",
            "Utilities                 0\n",
            "dtype: int64\n"
          ]
        }
      ],
      "source": [
        "print((sp500_sectors_avg_prices == 0).sum())"
      ]
    },
    {
      "cell_type": "markdown",
      "id": "349282aa",
      "metadata": {
        "id": "349282aa"
      },
      "source": [
        "\n"
      ]
    },
    {
      "cell_type": "code",
      "execution_count": null,
      "id": "5a8bd141",
      "metadata": {
        "id": "5a8bd141"
      },
      "outputs": [],
      "source": [
        "log_return.to_excel('log_return.xlsx', index=True)"
      ]
    },
    {
      "cell_type": "code",
      "execution_count": null,
      "id": "58822e2f",
      "metadata": {
        "colab": {
          "base_uri": "https://localhost:8080/"
        },
        "id": "58822e2f",
        "outputId": "d07b5d5d-72e6-4ce6-d077-f570e9d69b41"
      },
      "outputs": [
        {
          "output_type": "stream",
          "name": "stdout",
          "text": [
            "Percentage of negative log returns: 0.00%\n"
          ]
        }
      ],
      "source": [
        "# Calculate the percentage of negative log returns\n",
        "percentage_negative_returns = (log_return < 0).mean().mean() * 100\n",
        "\n",
        "print(f\"Percentage of negative log returns: {percentage_negative_returns:.2f}%\")"
      ]
    },
    {
      "cell_type": "code",
      "execution_count": null,
      "id": "76d7bb06",
      "metadata": {
        "colab": {
          "base_uri": "https://localhost:8080/"
        },
        "id": "76d7bb06",
        "outputId": "a7a890ea-0575-405b-ff3b-8b954fa06bd0"
      },
      "outputs": [
        {
          "output_type": "stream",
          "name": "stdout",
          "text": [
            "\n",
            "================================================================================\n",
            "PORTFOLIO WEIGHTS:\n",
            "--------------------------------------------------------------------------------\n",
            "    random_weights  rebalance_weights\n",
            "0         0.999391           0.184981\n",
            "1         0.785392           0.145371\n",
            "2         0.553556           0.102459\n",
            "3         0.138209           0.025581\n",
            "4         0.128185           0.023726\n",
            "5         0.721611           0.133565\n",
            "6         0.956812           0.177099\n",
            "7         0.066885           0.012380\n",
            "8         0.298274           0.055209\n",
            "9         0.154541           0.028604\n",
            "10        0.599826           0.111024\n",
            "--------------------------------------------------------------------------------\n",
            "\n",
            "================================================================================\n",
            "PORTFOLIO METRICS:\n",
            "--------------------------------------------------------------------------------\n",
            "   Expected Portfolio Returns  Expected Portfolio Volatility  Portfolio Sharpe Ratio\n",
            "0                    0.389642                       0.073222                5.321408\n",
            "--------------------------------------------------------------------------------\n"
          ]
        }
      ],
      "source": [
        "\n",
        "# Calculate the Expected Returns, annualize it by multiplying it by `252`.\n",
        "risk_free_rate = .01\n",
        "exp_ret = np.sum(((log_return.mean()-risk_free_rate) * rebalance_weights) * 252)\n",
        "\n",
        "# Calculate the Expected Volatility, annualize it by multiplying it by `252`.\n",
        "exp_vol = np.sqrt(\n",
        "np.dot(\n",
        "    rebalance_weights.T,\n",
        "    np.dot(\n",
        "        log_return.cov() * 252,\n",
        "        rebalance_weights\n",
        "    )\n",
        ")\n",
        ")\n",
        "\n",
        "# Calculate the Sharpe Ratio.\n",
        "sharpe_ratio = exp_ret / exp_vol\n",
        "\n",
        "# Put the weights into a data frame to see them better.\n",
        "weights_df = pd.DataFrame(data={\n",
        "'random_weights': random_weights,\n",
        "'rebalance_weights': rebalance_weights\n",
        "})\n",
        "print('')\n",
        "print('='*80)\n",
        "print('PORTFOLIO WEIGHTS:')\n",
        "print('-'*80)\n",
        "print(weights_df)\n",
        "print('-'*80)\n",
        "\n",
        "# Do the same with the other metrics.\n",
        "metrics_df = pd.DataFrame(data={\n",
        "    'Expected Portfolio Returns': exp_ret,\n",
        "    'Expected Portfolio Volatility': exp_vol,\n",
        "    'Portfolio Sharpe Ratio': sharpe_ratio\n",
        "}, index=[0])\n",
        "\n",
        "print('')\n",
        "print('='*80)\n",
        "print('PORTFOLIO METRICS:')\n",
        "print('-'*80)\n",
        "print(metrics_df)\n",
        "print('-'*80)"
      ]
    },
    {
      "cell_type": "code",
      "execution_count": null,
      "id": "00f1ff69",
      "metadata": {
        "colab": {
          "base_uri": "https://localhost:8080/"
        },
        "id": "00f1ff69",
        "outputId": "ad5636f0-3ceb-4173-d146-9e4607f1f250"
      },
      "outputs": [
        {
          "output_type": "stream",
          "name": "stdout",
          "text": [
            "\n",
            "================================================================================\n",
            "SIMULATIONS RESULT:\n",
            "--------------------------------------------------------------------------------\n",
            "================================================================================\n",
            "PORTFOLIO WEIGHTS:\n",
            "--------------------------------------------------------------------------------\n",
            "0     [0.012326686401708316, 0.12822271985859796, 0.15095696542100873, 0.14204242930167968, 0.002789737121416752, 0.1374485499941389, 0.12484669624133797, 0.0331928982419909, 0.14343048211044718, 0.08810756590477177, 0.036635269402901766]\n",
            "1      [0.06431792451160978, 0.06519417511340624, 0.10929976701402958, 0.09602028839739718, 0.1505689176279073, 0.1381427900513829, 0.15071242618141656, 0.060871217182538316, 0.05619650627529693, 0.003414592789360838, 0.10526139485565436]\n",
            "2       [0.18383993978115004, 0.04736211572674533, 0.10603709569604444, 0.0457973179122562, 0.050110194625459376, 0.0229349631878563, 0.15469266291128844, 0.10985642448702447, 0.12651514625498647, 0.02651505284371792, 0.12633908657347104]\n",
            "3        [0.14744898167197734, 0.0761388181436209, 0.04382969277729056, 0.05286861493447764, 0.04322866076620236, 0.05951881690238611, 0.12073889463505745, 0.1718638453953454, 0.01649348035872625, 0.10475495846115011, 0.16311523595376595]\n",
            "4    [0.001162953831590219, 0.11800302929900393, 0.07596153969340241, 0.09003104041593876, 0.16952809305881528, 0.15981043223396127, 0.10667261220399392, 0.17294522129527937, 0.04694711172879266, 0.03807938392183624, 0.020858582317385865]\n",
            "Name: Portfolio Weights, dtype: object\n",
            "--------------------------------------------------------------------------------\n",
            "================================================================================\n",
            "PORTFOLIO METRICS:\n",
            "--------------------------------------------------------------------------------\n",
            "    Returns  Volatility  Sharpe Ratio\n",
            "0  0.357492    0.069612      5.135519\n",
            "1  0.197072    0.070084      2.811957\n",
            "2  0.344951    0.073248      4.709365\n",
            "3  0.378520    0.076360      4.957035\n",
            "4  0.420007    0.081226      5.170818\n",
            "--------------------------------------------------------------------------------\n"
          ]
        }
      ],
      "source": [
        "# Initialize the components, to run a Monte Carlo Simulation.\n",
        "\n",
        "# We will run 5000 iterations.\n",
        "num_of_portfolios = 20000\n",
        "\n",
        "# Prep an array to store the weights as they are generated, 5000 iterations for each of our 4 symbols.\n",
        "all_weights = np.zeros((num_of_portfolios, number_of_sectors))\n",
        "\n",
        "# Prep an array to store the returns as they are generated, 5000 possible return values.\n",
        "ret_arr = np.zeros(num_of_portfolios)\n",
        "\n",
        "# Prep an array to store the volatilities as they are generated, 5000 possible volatility values.\n",
        "vol_arr = np.zeros(num_of_portfolios)\n",
        "\n",
        "# Prep an array to store the sharpe ratios as they are generated, 5000 possible Sharpe Ratios.\n",
        "sharpe_arr = np.zeros(num_of_portfolios)\n",
        "\n",
        "# Start the simulations.\n",
        "for ind in range(num_of_portfolios):\n",
        "\n",
        "    # First, calculate the weights.\n",
        "    weights = np.array(np.random.random(number_of_sectors))\n",
        "    weights = weights / np.sum(weights)\n",
        "\n",
        "    # Add the weights, to the `weights_arrays`.\n",
        "    all_weights[ind, :] = weights\n",
        "\n",
        "    # Calculate the expected log returns, and add them to the `returns_array`.\n",
        "    ret_arr[ind] = np.sum(((log_return.mean()-risk_free_rate) * weights) * 252)\n",
        "\n",
        "    # Calculate the volatility, and add them to the `volatility_array`.\n",
        "    vol_arr[ind] = np.sqrt(\n",
        "        np.dot(weights.T, np.dot(log_return.cov() * 252, weights)))\n",
        "\n",
        "\n",
        "    # Calculate the Sharpe Ratio and Add it to the `sharpe_ratio_array`.\n",
        "    sharpe_arr[ind] = ret_arr[ind]/vol_arr[ind]\n",
        "\n",
        "# Let's create our \"Master Data Frame\", with the weights, the returns, the volatility, and the Sharpe Ratio\n",
        "simulations_data = [ret_arr, vol_arr, sharpe_arr, all_weights]\n",
        "\n",
        "# Create a DataFrame from it, then Transpose it so it looks like our original one.\n",
        "simulations_df = pd.DataFrame(data=simulations_data).T\n",
        "\n",
        "# Give the columns the Proper Names.\n",
        "simulations_df.columns = [\n",
        "    'Returns',\n",
        "    'Volatility',\n",
        "    'Sharpe Ratio',\n",
        "    'Portfolio Weights'\n",
        "]\n",
        "\n",
        "# Make sure the data types are correct, we don't want our floats to be strings.\n",
        "simulations_df = simulations_df.infer_objects()\n",
        "\n",
        "# Print out the results.\n",
        "print('')\n",
        "print('='*80)\n",
        "print('SIMULATIONS RESULT:')\n",
        "print('-'*80)\n",
        "\n",
        "# Print PORTFOLIO WEIGHTS\n",
        "print('='*80)\n",
        "print('PORTFOLIO WEIGHTS:')\n",
        "print('-'*80)\n",
        "print(simulations_df['Portfolio Weights'].head())\n",
        "print('-'*80)\n",
        "\n",
        "# Print PORTFOLIO METRICS\n",
        "print('='*80)\n",
        "print('PORTFOLIO METRICS:')\n",
        "print('-'*80)\n",
        "print(simulations_df[['Returns', 'Volatility', 'Sharpe Ratio']].head())\n",
        "print('-'*80)"
      ]
    },
    {
      "cell_type": "code",
      "execution_count": null,
      "id": "0407a3e0",
      "metadata": {
        "scrolled": true,
        "colab": {
          "base_uri": "https://localhost:8080/"
        },
        "id": "0407a3e0",
        "outputId": "acd4079f-9898-4547-a414-fbfae877cf6e"
      },
      "outputs": [
        {
          "output_type": "stream",
          "name": "stdout",
          "text": [
            "\n",
            "================================================================================\n",
            "MAX SHARPE RATIO:\n",
            "--------------------------------------------------------------------------------\n",
            "Returns                                                                                                                                                                                                                                                 0.762855\n",
            "Volatility                                                                                                                                                                                                                                              0.073679\n",
            "Sharpe Ratio                                                                                                                                                                                                                                           10.353813\n",
            "Portfolio Weights    [0.03979404505777936, 0.2516083461931149, 0.03149998754651055, 0.029825881913984217, 0.019102389116181367, 0.05561127901545583, 0.00011502042089422223, 0.04250837442978629, 0.2644353527890339, 0.25460710158415895, 0.010892221933100545]\n",
            "Name: 15753, dtype: object\n",
            "--------------------------------------------------------------------------------\n",
            "\n",
            "================================================================================\n",
            "MIN VOLATILITY:\n",
            "--------------------------------------------------------------------------------\n",
            "Returns                                                                                                                                                                                                                                      -0.031459\n",
            "Volatility                                                                                                                                                                                                                                    0.046346\n",
            "Sharpe Ratio                                                                                                                                                                                                                                 -0.678782\n",
            "Portfolio Weights    [0.02189466732368096, 0.06574592471040033, 0.14148834153702022, 0.0526506290114285, 0.06745277698766855, 0.12120834277258262, 0.0121399896689453, 0.04611335585899434, 0.1037097730388435, 0.0643890372254197, 0.303207161865016]\n",
            "Name: 6710, dtype: object\n",
            "--------------------------------------------------------------------------------\n"
          ]
        }
      ],
      "source": [
        "# Return the Max Sharpe Ratio from the run.\n",
        "max_sharpe_ratio = simulations_df.loc[simulations_df['Sharpe Ratio'].idxmax()]\n",
        "\n",
        "# Return the Min Volatility from the run.\n",
        "min_volatility = simulations_df.loc[simulations_df['Volatility'].idxmin()]\n",
        "\n",
        "print('')\n",
        "print('='*80)\n",
        "print('MAX SHARPE RATIO:')\n",
        "print('-'*80)\n",
        "print(max_sharpe_ratio)\n",
        "print('-'*80)\n",
        "\n",
        "print('')\n",
        "print('='*80)\n",
        "print('MIN VOLATILITY:')\n",
        "print('-'*80)\n",
        "print(min_volatility)\n",
        "print('-'*80)\n"
      ]
    },
    {
      "cell_type": "markdown",
      "id": "d1f37cea",
      "metadata": {
        "id": "d1f37cea"
      },
      "source": [
        "### Portfolio Weights:\n",
        "\n",
        "The portfolio is again diversified, with the highest weight (26.83%) on the 1st asset and significant weights on the 3rd and 11th assets.\n",
        "The weights are determined to minimize the volatility of the portfolio, resulting in a more conservative allocation.\n",
        "\n",
        "In summary, the first portfolio aims to maximize the risk-adjusted return (Sharpe Ratio) and has a higher expected return but also higher volatility. The second portfolio aims to minimize volatility with a more conservative allocation but with a lower expected return. The choice between the two depends on the investor's risk tolerance and investment objectives.\n",
        "\n",
        "### Portfolio Weights:\n",
        "\n",
        "#### Max Sharpe Ratio Portfolio:\n",
        "\n",
        "#### Sector Weights:\n",
        "- Sector 1: 18.10%\n",
        "- Sector 2: 4.58%\n",
        "- Sector 3: 1.05%\n",
        "- Sector 4: 4.37%\n",
        "- Sector 5: 0.43%\n",
        "- Sector 6: 2.78%\n",
        "- Sector 7: 6.19%\n",
        "- Sector 8: 22.73%\n",
        "- Sector 9: 14.14%\n",
        "- Sector 10: 20.24%\n",
        "- Sector 11: 5.39%\n",
        "\n",
        "#### Min Volatility Portfolio:\n",
        "\n",
        "#### Sector Weights:\n",
        "- Sector 1: 26.83%\n",
        "- Sector 2: 2.88%\n",
        "- Sector 3: 23.50%\n",
        "- Sector 4: 5.97%\n",
        "- Sector 5: 0.70%\n",
        "- Sector 6: 7.63%\n",
        "- Sector 7: 4.40%\n",
        "- Sector 8: 3.56%\n",
        "- Sector 9: 1.41%\n",
        "- Sector 10: 3.40%\n",
        "- Sector 11: 19.73%\n",
        "\n",
        "We can further these results with machine learning via the scikit library"
      ]
    },
    {
      "cell_type": "code",
      "execution_count": null,
      "id": "25716ea2",
      "metadata": {
        "colab": {
          "base_uri": "https://localhost:8080/"
        },
        "id": "25716ea2",
        "outputId": "db214a18-38e2-42a7-d1f4-8f4ea3f6064f"
      },
      "outputs": [
        {
          "output_type": "stream",
          "name": "stdout",
          "text": [
            "Predicted Portfolio Weights (first 5 samples):\n",
            "[[0.11865427 0.09900773 0.0868748  0.08033465 0.07555186 0.08339413\n",
            "  0.08187804 0.08771116 0.11153629 0.10560091 0.07402798]\n",
            " [0.07641455 0.10241499 0.09298588 0.10220002 0.05324215 0.09310165\n",
            "  0.11552621 0.10641491 0.08572952 0.08384608 0.10048157]\n",
            " [0.06802732 0.10098549 0.1071878  0.09838886 0.10277012 0.07738008\n",
            "  0.07033473 0.06052111 0.1072255  0.08182558 0.09682677]\n",
            " [0.09393774 0.12167835 0.04064455 0.12151531 0.1106865  0.1003432\n",
            "  0.13532038 0.1165107  0.1092591  0.05559389 0.02144142]\n",
            " [0.06256268 0.0872198  0.13156066 0.07994009 0.07960389 0.07300267\n",
            "  0.06466923 0.08100808 0.06225375 0.13365622 0.13660312]]\n",
            "\n",
            "Actual Portfolio Weights (first 5 samples):\n",
            "[[0.09487963 0.03685253 0.04935337 0.0688838  0.1539331  0.07153798\n",
            "  0.14574185 0.00493499 0.17736134 0.16455561 0.0319658 ]\n",
            " [0.0268248  0.06938469 0.14685774 0.18618465 0.088873   0.0168965\n",
            "  0.2064027  0.00984455 0.18802252 0.0562489  0.00445995]\n",
            " [0.01470487 0.04202669 0.02220153 0.16356367 0.02238261 0.14492559\n",
            "  0.07103916 0.09990798 0.16864603 0.105108   0.14549386]\n",
            " [0.1424605  0.10303814 0.03561434 0.11763811 0.07504453 0.01230386\n",
            "  0.15836039 0.15437397 0.12490465 0.00356747 0.07269403]\n",
            " [0.12617116 0.14268693 0.12913175 0.02879376 0.09690894 0.12486147\n",
            "  0.02046052 0.04902337 0.03692557 0.1083694  0.13666712]]\n",
            "\n",
            "Mean Squared Errors for each portfolio weight:\n",
            "[0.002723936961822658, 0.0017248419912838193, 0.0025465883040315133, 0.002834278185266147, 0.002942407277657084, 0.0028403777139284127, 0.0028201652327563263, 0.0023455227990904185, 0.002530240633452349, 0.0030166962529412766, 0.0017994430491157943]\n"
          ]
        }
      ],
      "source": [
        "from sklearn.ensemble import RandomForestRegressor\n",
        "from sklearn.model_selection import train_test_split\n",
        "from sklearn.metrics import mean_squared_error\n",
        "\n",
        "\n",
        "simulations_df[\"Portfolio Weights\"] = simulations_df[\"Portfolio Weights\"].apply(lambda x: np.array(x) if isinstance(x, list) else x)\n",
        "\n",
        "\n",
        "flattened_weights = np.vstack(simulations_df[\"Portfolio Weights\"].to_numpy())\n",
        "\n",
        "\n",
        "X = simulations_df[[\"Volatility\", \"Sharpe Ratio\"]].values\n",
        "y = flattened_weights\n",
        "\n",
        "\n",
        "X_train, X_test, y_train, y_test = train_test_split(X, y, test_size=0.2, random_state=42)\n",
        "\n",
        "\n",
        "rf_models = []\n",
        "y_preds = []\n",
        "\n",
        "\n",
        "for i in range(y.shape[1]):\n",
        "    rf_model = RandomForestRegressor(n_estimators=100, random_state=42)\n",
        "    rf_model.fit(X_train, y_train[:, i])\n",
        "    y_pred = rf_model.predict(X_test)\n",
        "\n",
        "    rf_models.append(rf_model)\n",
        "    y_preds.append(y_pred)\n",
        "\n",
        "\n",
        "y_preds = np.array(y_preds).T\n",
        "\n",
        "\n",
        "print(\"Predicted Portfolio Weights (first 5 samples):\")\n",
        "print(y_preds[:5])\n",
        "\n",
        "print(\"\\nActual Portfolio Weights (first 5 samples):\")\n",
        "print(y_test[:5])\n",
        "\n",
        "mse_list = [mean_squared_error(y_test[:, i], y_preds[:, i]) for i in range(y.shape[1])]\n",
        "\n",
        "print(\"\\nMean Squared Errors for each portfolio weight:\")\n",
        "print(mse_list)"
      ]
    }
  ],
  "metadata": {
    "kernelspec": {
      "display_name": "Python 3 (ipykernel)",
      "language": "python",
      "name": "python3"
    },
    "language_info": {
      "codemirror_mode": {
        "name": "ipython",
        "version": 3
      },
      "file_extension": ".py",
      "mimetype": "text/x-python",
      "name": "python",
      "nbconvert_exporter": "python",
      "pygments_lexer": "ipython3",
      "version": "3.9.12"
    },
    "colab": {
      "provenance": []
    }
  },
  "nbformat": 4,
  "nbformat_minor": 5
}